{
 "cells": [
  {
   "cell_type": "code",
   "execution_count": 1,
   "id": "f6cb5d68-0fd2-4e22-9b9f-f75b962cd923",
   "metadata": {},
   "outputs": [
    {
     "name": "stdout",
     "output_type": "stream",
     "text": [
      "Data loaded successfully.\n",
      "An error occurred while saving: Cannot save file into a non-existent directory: 'data'\n"
     ]
    }
   ],
   "source": [
    "# Data Analytics Project Template\n",
    "# This notebook serves as a starting template for data analytics projects.\n",
    "\n",
    "# Import necessary libraries\n",
    "import pandas as pd\n",
    "\n",
    "# Section 1: Data Loading\n",
    "# Description: This section is for loading data from a CSV file.\n",
    "# Update the file path below to your data file path.\n",
    "data_path = 'AB_NYC_2019.csv'  # Change this to your actual data file\n",
    "try:\n",
    "    df = pd.read_csv(data_path)\n",
    "    print(\"Data loaded successfully.\")\n",
    "except FileNotFoundError:\n",
    "    print(f\"File not found: {data_path}\")\n",
    "except Exception as e:\n",
    "    print(f\"An error occurred: {e}\")\n",
    "\n",
    "# Display the first few rows of the dataset to understand its structure\n",
    "df.head()\n",
    "\n",
    "# Section 2: Data Processing\n",
    "# Description: This section is for cleaning and processing the data.\n",
    "# Add any necessary steps for data cleaning below.\n",
    "# Example: Renaming columns, handling missing values, etc.\n",
    "\n",
    "# df = df.dropna()  # Example: Drop rows with missing values\n",
    "# df['new_column'] = df['existing_column'] * 2  # Example: Add a new calculated column\n",
    "\n",
    "# Section 3: Data Analysis\n",
    "# Description: This section is for analysis, such as descriptive statistics or visualizations.\n",
    "# Example: Calculate basic statistics\n",
    "\n",
    "# print(df.describe())  # Get summary statistics\n",
    "\n",
    "# Section 4: Save Processed Data\n",
    "# Description: This section saves the processed data to a new CSV file.\n",
    "output_path = 'data/processed_data.csv'  # Change this to your desired output path\n",
    "try:\n",
    "    df.to_csv(output_path, index=False)\n",
    "    print(f\"Processed data saved successfully to {output_path}.\")\n",
    "except Exception as e:\n",
    "    print(f\"An error occurred while saving: {e}\")\n",
    "\n",
    "# End of Template\n"
   ]
  },
  {
   "cell_type": "code",
   "execution_count": null,
   "id": "340925cf-9f3f-4044-9143-927606f79f2a",
   "metadata": {},
   "outputs": [],
   "source": []
  }
 ],
 "metadata": {
  "kernelspec": {
   "display_name": "Python 3 (ipykernel)",
   "language": "python",
   "name": "python3"
  },
  "language_info": {
   "codemirror_mode": {
    "name": "ipython",
    "version": 3
   },
   "file_extension": ".py",
   "mimetype": "text/x-python",
   "name": "python",
   "nbconvert_exporter": "python",
   "pygments_lexer": "ipython3",
   "version": "3.11.5"
  }
 },
 "nbformat": 4,
 "nbformat_minor": 5
}
